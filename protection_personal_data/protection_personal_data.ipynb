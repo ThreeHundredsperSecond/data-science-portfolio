{
 "cells": [
  {
   "cell_type": "markdown",
   "metadata": {
    "id": "jZW8QhIrfmIn"
   },
   "source": [
    "# Защита персональных данных клиентов"
   ]
  },
  {
   "cell_type": "markdown",
   "metadata": {
    "id": "0KKNbTxtfmIo"
   },
   "source": [
    "Вам нужно защитить данные клиентов страховой компании «Хоть потоп». Разработайте такой метод преобразования данных, чтобы по ним было сложно восстановить персональную информацию. Обоснуйте корректность его работы.\n",
    "\n",
    "Нужно защитить данные, чтобы при преобразовании качество моделей машинного обучения не ухудшилось. Подбирать наилучшую модель не требуется."
   ]
  },
  {
   "cell_type": "markdown",
   "metadata": {
    "id": "uU9mzLzofmIp"
   },
   "source": [
    "## Загрузка данных"
   ]
  },
  {
   "cell_type": "code",
   "execution_count": 1,
   "metadata": {
    "id": "MXLkkMeyhVrq"
   },
   "outputs": [],
   "source": [
    "import pandas as pd \n",
    "import numpy as np \n",
    "import seaborn as sns \n",
    "import matplotlib.pyplot as plt \n",
    "import warnings \n",
    "warnings.simplefilter(action='ignore', category=FutureWarning) \n",
    "from sklearn.model_selection import train_test_split \n",
    "from sklearn.linear_model import LinearRegression \n",
    "from sklearn.metrics import mean_absolute_error \n",
    "from sklearn.metrics import r2_score "
   ]
  },
  {
   "cell_type": "code",
   "execution_count": 2,
   "metadata": {
    "id": "t7ONOZPNgqOT"
   },
   "outputs": [],
   "source": [
    "try:\n",
    "  data = pd.read_csv('/datasets/insurance.csv')\n",
    "except:\n",
    "  data =  pd.read_csv(r'D:\\data_set\\insurance.csv')"
   ]
  },
  {
   "cell_type": "code",
   "execution_count": 4,
   "metadata": {
    "colab": {
     "base_uri": "https://localhost:8080/",
     "height": 649
    },
    "id": "sloe5JKOhNvI",
    "outputId": "49715d48-9626-4d88-c55f-7e627a771ac9"
   },
   "outputs": [
    {
     "name": "stdout",
     "output_type": "stream",
     "text": [
      "<class 'pandas.core.frame.DataFrame'>\n",
      "RangeIndex: 5000 entries, 0 to 4999\n",
      "Data columns (total 5 columns):\n",
      " #   Column             Non-Null Count  Dtype  \n",
      "---  ------             --------------  -----  \n",
      " 0   Пол                5000 non-null   int64  \n",
      " 1   Возраст            5000 non-null   float64\n",
      " 2   Зарплата           5000 non-null   float64\n",
      " 3   Члены семьи        5000 non-null   int64  \n",
      " 4   Страховые выплаты  5000 non-null   int64  \n",
      "dtypes: float64(2), int64(3)\n",
      "memory usage: 195.4 KB\n",
      "None\n"
     ]
    },
    {
     "data": {
      "text/html": [
       "<div>\n",
       "<style scoped>\n",
       "    .dataframe tbody tr th:only-of-type {\n",
       "        vertical-align: middle;\n",
       "    }\n",
       "\n",
       "    .dataframe tbody tr th {\n",
       "        vertical-align: top;\n",
       "    }\n",
       "\n",
       "    .dataframe thead th {\n",
       "        text-align: right;\n",
       "    }\n",
       "</style>\n",
       "<table border=\"1\" class=\"dataframe\">\n",
       "  <thead>\n",
       "    <tr style=\"text-align: right;\">\n",
       "      <th></th>\n",
       "      <th>index</th>\n",
       "      <th>Пол</th>\n",
       "      <th>Возраст</th>\n",
       "      <th>Зарплата</th>\n",
       "      <th>Члены семьи</th>\n",
       "      <th>Страховые выплаты</th>\n",
       "    </tr>\n",
       "  </thead>\n",
       "  <tbody>\n",
       "    <tr>\n",
       "      <th>0</th>\n",
       "      <td>0</td>\n",
       "      <td>1</td>\n",
       "      <td>41.0</td>\n",
       "      <td>49600.0</td>\n",
       "      <td>1</td>\n",
       "      <td>0</td>\n",
       "    </tr>\n",
       "    <tr>\n",
       "      <th>1</th>\n",
       "      <td>1</td>\n",
       "      <td>0</td>\n",
       "      <td>46.0</td>\n",
       "      <td>38000.0</td>\n",
       "      <td>1</td>\n",
       "      <td>1</td>\n",
       "    </tr>\n",
       "    <tr>\n",
       "      <th>2</th>\n",
       "      <td>2</td>\n",
       "      <td>0</td>\n",
       "      <td>29.0</td>\n",
       "      <td>21000.0</td>\n",
       "      <td>0</td>\n",
       "      <td>0</td>\n",
       "    </tr>\n",
       "    <tr>\n",
       "      <th>3</th>\n",
       "      <td>3</td>\n",
       "      <td>0</td>\n",
       "      <td>21.0</td>\n",
       "      <td>41700.0</td>\n",
       "      <td>2</td>\n",
       "      <td>0</td>\n",
       "    </tr>\n",
       "    <tr>\n",
       "      <th>4</th>\n",
       "      <td>4</td>\n",
       "      <td>1</td>\n",
       "      <td>28.0</td>\n",
       "      <td>26100.0</td>\n",
       "      <td>0</td>\n",
       "      <td>0</td>\n",
       "    </tr>\n",
       "    <tr>\n",
       "      <th>...</th>\n",
       "      <td>...</td>\n",
       "      <td>...</td>\n",
       "      <td>...</td>\n",
       "      <td>...</td>\n",
       "      <td>...</td>\n",
       "      <td>...</td>\n",
       "    </tr>\n",
       "    <tr>\n",
       "      <th>4842</th>\n",
       "      <td>4995</td>\n",
       "      <td>0</td>\n",
       "      <td>28.0</td>\n",
       "      <td>35700.0</td>\n",
       "      <td>2</td>\n",
       "      <td>0</td>\n",
       "    </tr>\n",
       "    <tr>\n",
       "      <th>4843</th>\n",
       "      <td>4996</td>\n",
       "      <td>0</td>\n",
       "      <td>34.0</td>\n",
       "      <td>52400.0</td>\n",
       "      <td>1</td>\n",
       "      <td>0</td>\n",
       "    </tr>\n",
       "    <tr>\n",
       "      <th>4844</th>\n",
       "      <td>4997</td>\n",
       "      <td>0</td>\n",
       "      <td>20.0</td>\n",
       "      <td>33900.0</td>\n",
       "      <td>2</td>\n",
       "      <td>0</td>\n",
       "    </tr>\n",
       "    <tr>\n",
       "      <th>4845</th>\n",
       "      <td>4998</td>\n",
       "      <td>1</td>\n",
       "      <td>22.0</td>\n",
       "      <td>32700.0</td>\n",
       "      <td>3</td>\n",
       "      <td>0</td>\n",
       "    </tr>\n",
       "    <tr>\n",
       "      <th>4846</th>\n",
       "      <td>4999</td>\n",
       "      <td>1</td>\n",
       "      <td>28.0</td>\n",
       "      <td>40600.0</td>\n",
       "      <td>1</td>\n",
       "      <td>0</td>\n",
       "    </tr>\n",
       "  </tbody>\n",
       "</table>\n",
       "<p>4847 rows × 6 columns</p>\n",
       "</div>"
      ],
      "text/plain": [
       "      index  Пол  Возраст  Зарплата  Члены семьи  Страховые выплаты\n",
       "0         0    1     41.0   49600.0            1                  0\n",
       "1         1    0     46.0   38000.0            1                  1\n",
       "2         2    0     29.0   21000.0            0                  0\n",
       "3         3    0     21.0   41700.0            2                  0\n",
       "4         4    1     28.0   26100.0            0                  0\n",
       "...     ...  ...      ...       ...          ...                ...\n",
       "4842   4995    0     28.0   35700.0            2                  0\n",
       "4843   4996    0     34.0   52400.0            1                  0\n",
       "4844   4997    0     20.0   33900.0            2                  0\n",
       "4845   4998    1     22.0   32700.0            3                  0\n",
       "4846   4999    1     28.0   40600.0            1                  0\n",
       "\n",
       "[4847 rows x 6 columns]"
      ]
     },
     "execution_count": 4,
     "metadata": {},
     "output_type": "execute_result"
    }
   ],
   "source": [
    "print(data.info())\n",
    "data = data.drop_duplicates().reset_index()\n",
    "data"
   ]
  },
  {
   "cell_type": "markdown",
   "metadata": {
    "id": "X8pa5qrUje8h"
   },
   "source": [
    "Пропусков нет,дубликаты удалены "
   ]
  },
  {
   "cell_type": "code",
   "execution_count": 5,
   "metadata": {
    "colab": {
     "base_uri": "https://localhost:8080/"
    },
    "id": "A4BfNXNNkPIR",
    "outputId": "b2718e9b-741a-4b9f-895c-f51637c8dd8b"
   },
   "outputs": [
    {
     "data": {
      "text/plain": [
       "0    4284\n",
       "1     423\n",
       "2     114\n",
       "3      18\n",
       "4       7\n",
       "5       1\n",
       "Name: Страховые выплаты, dtype: int64"
      ]
     },
     "execution_count": 5,
     "metadata": {},
     "output_type": "execute_result"
    }
   ],
   "source": [
    "data['Страховые выплаты'].value_counts()"
   ]
  },
  {
   "cell_type": "code",
   "execution_count": 6,
   "metadata": {
    "colab": {
     "base_uri": "https://localhost:8080/",
     "height": 1000
    },
    "id": "-Uf1wVaLjYFA",
    "outputId": "a7ce2b4d-9ad1-461e-ffbd-62498dd0cd33"
   },
   "outputs": [
    {
     "name": "stderr",
     "output_type": "stream",
     "text": [
      "/opt/conda/lib/python3.9/site-packages/seaborn/axisgrid.py:1969: UserWarning: The `size` parameter has been renamed to `height`; please update your code.\n",
      "  warnings.warn(msg, UserWarning)\n",
      "/opt/conda/lib/python3.9/site-packages/seaborn/distributions.py:306: UserWarning: Dataset has 0 variance; skipping density estimate.\n",
      "  warnings.warn(msg, UserWarning)\n",
      "/opt/conda/lib/python3.9/site-packages/seaborn/distributions.py:306: UserWarning: Dataset has 0 variance; skipping density estimate.\n",
      "  warnings.warn(msg, UserWarning)\n",
      "/opt/conda/lib/python3.9/site-packages/seaborn/distributions.py:306: UserWarning: Dataset has 0 variance; skipping density estimate.\n",
      "  warnings.warn(msg, UserWarning)\n",
      "/opt/conda/lib/python3.9/site-packages/seaborn/distributions.py:306: UserWarning: Dataset has 0 variance; skipping density estimate.\n",
      "  warnings.warn(msg, UserWarning)\n",
      "/opt/conda/lib/python3.9/site-packages/seaborn/distributions.py:306: UserWarning: Dataset has 0 variance; skipping density estimate.\n",
      "  warnings.warn(msg, UserWarning)\n"
     ]
    },
    {
     "data": {
      "image/png": "[encoded data removed]",
      "text/plain": [
       "<Figure size 834.5x720 with 20 Axes>"
      ]
     },
     "metadata": {
      "needs_background": "light"
     },
     "output_type": "display_data"
    }
   ],
   "source": [
    "sns.pairplot(data,size=2,hue='Страховые выплаты',height = 1,corner=True)\n",
    "plt.show()"
   ]
  },
  {
   "cell_type": "code",
   "execution_count": 7,
   "metadata": {
    "colab": {
     "base_uri": "https://localhost:8080/",
     "height": 587
    },
    "id": "MSqtsfgMkRXA",
    "outputId": "10f113bd-502f-43f1-b609-17d6cbf22d8c"
   },
   "outputs": [
    {
     "data": {
      "text/plain": [
       "<AxesSubplot:>"
      ]
     },
     "execution_count": 7,
     "metadata": {},
     "output_type": "execute_result"
    },
    {
     "data": {
      "image/png": "[encoded data removed]",
      "text/plain": [
       "<Figure size 432x288 with 2 Axes>"
      ]
     },
     "metadata": {
      "needs_background": "light"
     },
     "output_type": "display_data"
    }
   ],
   "source": [
    "sns.heatmap(data.corr(method = 'spearman'), annot = True)"
   ]
  },
  {
   "cell_type": "markdown",
   "metadata": {
    "id": "I293JSUvltVK"
   },
   "source": [
    "**Вывод:**\n",
    "* Пропусков нет \n",
    "* Дубликаты удалены \n",
    "* мультиколлинеарности нет\n",
    "* Есть значимая корреляция между возрастом и выплатами, думаю главное объяснение этого в том, чем дольше живет человек, тем большее окно для несчастных случаев. На языке ролевых игр - большая частота бросков кубиков на критическое повреждение, не говоря про здоровье и другие факторы связанные с возрастом "
   ]
  },
  {
   "cell_type": "markdown",
   "metadata": {
    "id": "lOkYNkQ5fmIr"
   },
   "source": [
    "## Умножение матриц"
   ]
  },
  {
   "cell_type": "markdown",
   "metadata": {
    "id": "EGjwPInRfmIr"
   },
   "source": [
    "Докажем, что умножение данных на матрицу шифрования не окажет искажающие влияние на модель."
   ]
  },
  {
   "cell_type": "markdown",
   "metadata": {
    "id": "DiDJq17WfmIr"
   },
   "source": [
    "Обозначения:\n",
    "\n",
    "- $X$ — матрица признаков (нулевой столбец состоит из единиц)\n",
    "\n",
    "- $y$ — вектор целевого признака\n",
    "\n",
    "- $P$ — матрица, на которую умножаются признаки\n",
    "\n",
    "- $w$ — вектор весов линейной регрессии (нулевой элемент равен сдвигу)"
   ]
  },
  {
   "cell_type": "markdown",
   "metadata": {
    "id": "7fi_MTFzfmIs"
   },
   "source": [
    "Предсказания:\n",
    "\n",
    "$$\n",
    "a = Xw\n",
    "$$\n",
    "\n",
    "Задача обучения:\n",
    "\n",
    "$$\n",
    "w = \\arg\\min_w MSE(Xw, y)\n",
    "$$\n",
    "\n",
    "Формула обучения:\n",
    "\n",
    "$$\n",
    "w = (X^T X)^{-1} X^T y\n",
    "$$"
   ]
  },
  {
   "cell_type": "markdown",
   "metadata": {
    "id": "OQmV5vUtfmIs"
   },
   "source": [
    "**Ответ:** Не изменится\n",
    "\n",
    "**Обоснование:**\n",
    "\n",
    "Умножим матрицу целевого на обратную ей: \n",
    "$$\n",
    "R = XP\n",
    "$$\n",
    "\n",
    "Тогда формула предсказаний будет иметь вид:\n",
    "$$\n",
    "a = Rw\n",
    "$$\n",
    "Обучение соответственно:\n",
    "$$\n",
    "w = (R^T R)^{-1} R^T y\n",
    "$$\n",
    "Теперь в эту формулу подставим \n",
    "$$\n",
    "R = XP\n",
    "$$ \n",
    "и раскроем скобки:\n",
    "$$\n",
    "W = ((XP)^T (XP))^{-1} (XP)^T y =\n",
    "$$\n",
    "$$\n",
    " = (P^TX^T (XP))^{-1} P^TX^T y =\n",
    "$$\n",
    "\n",
    "$$\n",
    " =  P^{-1}(P^T(X^TX))^{-1} P^TX^T y =\n",
    "$$\n",
    "$$\n",
    " = P^{-1}(X^TX)^{-1}(P^T)^{-1}P^TX^T y =\n",
    "$$\n",
    "где:\n",
    "$$\n",
    "E = (P^T)^{-1}P^T\n",
    "$$\n",
    "Следовательно:\n",
    "$$\n",
    "W = P^{-1}(X^TX)^{-1}EX^T y\n",
    "$$\n",
    "Единичную матрицу можно убрать \n",
    "$$\n",
    "W = P^{-1}(X^TX)^{-1}X^T y\n",
    "$$\n",
    "\n",
    "Свернуть до более компактного вида по :\n",
    "\n",
    "$$\n",
    "w = (X^T X)^{-1} X^T y\n",
    "$$\n",
    "$$\n",
    "W = P^{-1}w\n",
    "$$\n",
    "Тогда предсказания:\n",
    "$$\n",
    "A  = R(P^{-1}w)\n",
    "$$\n",
    "$$\n",
    "A = XP(P^{-1}w)\n",
    "$$\n",
    "Сокращаем:\n",
    "$$\n",
    "А  = Xw = a\n",
    "$$\n",
    "Чтд"
   ]
  },
  {
   "cell_type": "markdown",
   "metadata": {
    "id": "eBwPpY3gfmIs"
   },
   "source": [
    "## Алгоритм преобразования"
   ]
  },
  {
   "cell_type": "markdown",
   "metadata": {
    "id": "_M6dP3EqfmIt"
   },
   "source": [
    "**Алгоритм**\n",
    "Поэтому умножим матрицу признаков на обратимую матрицу той же размерности,в которой все величины сгенерированы случайно.\n",
    "\n",
    "---\n",
    "1. Разбиваем на выборки\n",
    "2. Генерим квадратную матрицу до тех пор,пока не получим обратимую \n",
    "3. Шифруемся  - умножим признаки обучающей и тестовой выборок исходного датасета на сгенерированную случайную квадратную матрицу P.\n",
    "4. Сравним результат до шифрования и после\n",
    "\n",
    "\n"
   ]
  },
  {
   "cell_type": "markdown",
   "metadata": {
    "id": "XD-P49oefmIt"
   },
   "source": [
    "**Обоснование**\n",
    "\n",
    "Выше"
   ]
  },
  {
   "cell_type": "code",
   "execution_count": 8,
   "metadata": {
    "id": "YgFadWxffPOK"
   },
   "outputs": [],
   "source": [
    "features = data.drop(['Страховые выплаты','index'], axis=1)\n",
    "target = data['Страховые выплаты']"
   ]
  },
  {
   "cell_type": "code",
   "execution_count": 9,
   "metadata": {
    "id": "ym5ZL0kqiMmC"
   },
   "outputs": [],
   "source": [
    "features_train, features_test, target_train, target_test = train_test_split(\n",
    "    features, target, test_size=0.3, random_state=12345)"
   ]
  },
  {
   "cell_type": "markdown",
   "metadata": {
    "id": "amS4CPQqgKUj"
   },
   "source": [
    "Поскольку в фичах 4 столбца создадим 4*4"
   ]
  },
  {
   "cell_type": "code",
   "execution_count": 11,
   "metadata": {
    "colab": {
     "base_uri": "https://localhost:8080/"
    },
    "id": "eBZdI7K0fO87",
    "outputId": "364ceeb1-4437-474d-f4ce-9aff8779e1f7"
   },
   "outputs": [
    {
     "name": "stdout",
     "output_type": "stream",
     "text": [
      "[[-0.70678636 -0.34942016  1.41444078  0.54591322]\n",
      " [ 0.06507319  0.56609189  0.55334633 -0.07158659]\n",
      " [ 0.63474344 -0.7040271   0.23737159  0.77604851]\n",
      " [ 0.25521678  1.75308235  0.39290375  1.50779945]]\n"
     ]
    }
   ],
   "source": [
    "def encoding_matrix():\n",
    "    # у необратимых матриц детерминанта =  0,площадь сплющена в вектор или точку\n",
    "    det = 0\n",
    "    # поэтому пока det == 0 генерим новую матрицу\n",
    "    while det == 0:\n",
    "        matrix = np.random.normal(size=(features.shape[1], features.shape[1]))\n",
    "        det = np.linalg.det(matrix)\n",
    "    return matrix\n",
    "\n",
    "\n",
    "key = encoding_matrix()\n",
    "\n",
    "print(key)"
   ]
  },
  {
   "cell_type": "markdown",
   "metadata": {
    "id": "ly0du1nelGU_"
   },
   "source": [
    "Рассчитаем результаты для исходных параметров для весов:\n",
    "$$\n",
    "w = (X^T X)^{-1} X^T y\n",
    "$$\n",
    "Вектор с предсказаниями :\n",
    "$$\n",
    "a = Xw\n",
    "$$"
   ]
  },
  {
   "cell_type": "code",
   "execution_count": 12,
   "metadata": {
    "colab": {
     "base_uri": "https://localhost:8080/"
    },
    "id": "47ILfUGTjH1R",
    "outputId": "59832ba2-4d29-42d4-8b16-bffba2d188ab"
   },
   "outputs": [
    {
     "data": {
      "text/plain": [
       "2365   -0.001627\n",
       "1627    0.478551\n",
       "2618    0.053150\n",
       "4138    0.176945\n",
       "4753   -0.044211\n",
       "          ...   \n",
       "3497    0.122342\n",
       "3492    0.255575\n",
       "2177    0.045813\n",
       "3557    0.230507\n",
       "4578    0.305182\n",
       "Length: 3392, dtype: float64"
      ]
     },
     "execution_count": 12,
     "metadata": {},
     "output_type": "execute_result"
    }
   ],
   "source": [
    "w = np.linalg.inv(features_train.T.dot(features_train)).dot(features_train.T).dot(target_train)\n",
    "a = features_train @ w\n",
    "a"
   ]
  },
  {
   "cell_type": "markdown",
   "metadata": {
    "id": "h8GElP9Qmoym"
   },
   "source": [
    "Тоже самое для шифрованных "
   ]
  },
  {
   "cell_type": "code",
   "execution_count": 13,
   "metadata": {
    "id": "7EAqXRXrmoK4"
   },
   "outputs": [],
   "source": [
    "features_encoded = features_train @ key\n",
    "\n",
    "W = np.linalg.inv(features_encoded.T.dot(features_encoded)).dot(features_encoded.T).dot(target_train)\n",
    "A = features_encoded @ W"
   ]
  },
  {
   "cell_type": "code",
   "execution_count": 14,
   "metadata": {
    "colab": {
     "base_uri": "https://localhost:8080/"
    },
    "id": "4mbjrNdsnnk_",
    "outputId": "5cc172fa-688d-4659-edb0-55dda5352d03"
   },
   "outputs": [
    {
     "data": {
      "text/plain": [
       "2.1256979755358415e-08"
      ]
     },
     "execution_count": 14,
     "metadata": {},
     "output_type": "execute_result"
    }
   ],
   "source": [
    "# посмотрим на ошибку\n",
    "mae = mean_absolute_error(a, A)\n",
    "mae"
   ]
  },
  {
   "cell_type": "markdown",
   "metadata": {
    "id": "R1ulNtZOpl5l"
   },
   "source": [
    "Как видно разница не значительная,в продакшен)))"
   ]
  },
  {
   "cell_type": "markdown",
   "metadata": {
    "id": "T9HgH2vLfmIt"
   },
   "source": [
    "## Проверка алгоритма"
   ]
  },
  {
   "cell_type": "markdown",
   "metadata": {
    "id": "j94Nc46tqYmk"
   },
   "source": [
    "Проверим, что качество линейной регрессии из sklearn не отличается до и после преобразования. Применим метрику R2."
   ]
  },
  {
   "cell_type": "code",
   "execution_count": 15,
   "metadata": {
    "id": "lv9DsFzkfmIt"
   },
   "outputs": [],
   "source": [
    "class LinearRegression:\n",
    "    def fit(self, train_features, train_target):\n",
    "        #матрица признаков + w0 = 1 \n",
    "        X = np.concatenate((np.ones((train_features.shape[0], 1)), train_features), axis=1)\n",
    "        y = train_target\n",
    "        w = ((np.linalg.inv(X.T @ X)) @ X.T) @ y\n",
    "        self.w = w[1:]\n",
    "        self.w0 = w[0]\n",
    "\n",
    "    def predict(self, test_features):\n",
    "        return (test_features @ self.w) + self.w0\n",
    "\n",
    "    def get_r2_score(self, target, predict):\n",
    "        r2 = r2_score(target, predict)\n",
    "        return r2  "
   ]
  },
  {
   "cell_type": "markdown",
   "metadata": {
    "id": "rHQ4_1YfvIyB"
   },
   "source": [
    "Для исходных:"
   ]
  },
  {
   "cell_type": "code",
   "execution_count": 16,
   "metadata": {
    "colab": {
     "base_uri": "https://localhost:8080/"
    },
    "id": "1gqmOKpesJws",
    "outputId": "95b1b810-68c5-4e8e-9983-34ae6791d1a8"
   },
   "outputs": [
    {
     "name": "stdout",
     "output_type": "stream",
     "text": [
      "R2 для исходных : 0.43287552621918113\n"
     ]
    }
   ],
   "source": [
    "model_not_encoded = LinearRegression()\n",
    "model_not_encoded.fit(features_train, target_train)\n",
    "prediction = model_not_encoded.predict(features_test)\n",
    "r2_not_encoded = model_not_encoded.get_r2_score(target_test, prediction)\n",
    "print('R2 для исходных :',r2_not_encoded)"
   ]
  },
  {
   "cell_type": "markdown",
   "metadata": {
    "id": "0JwcMVsJvYuB"
   },
   "source": [
    "Для шифрованных:"
   ]
  },
  {
   "cell_type": "code",
   "execution_count": 17,
   "metadata": {
    "colab": {
     "base_uri": "https://localhost:8080/"
    },
    "id": "_3E2cvufvekm",
    "outputId": "86080a5b-b287-40eb-9e0d-8f737e309b58"
   },
   "outputs": [
    {
     "name": "stdout",
     "output_type": "stream",
     "text": [
      "R2 для шифрованных : 0.43287552426060805\n"
     ]
    }
   ],
   "source": [
    "model_encoded = LinearRegression()\n",
    "model_encoded.fit(features_encoded, target_train)\n",
    "prediction = model_encoded.predict(features_test @ key)\n",
    "r2_encoded = model_encoded.get_r2_score(target_test, prediction)\n",
    "print('R2 для шифрованных :',r2_encoded)"
   ]
  },
  {
   "cell_type": "markdown",
   "metadata": {
    "id": "HN42dgP1wROi"
   },
   "source": [
    "Как видно разница не значительна.Еще протестим на sklearn модели."
   ]
  },
  {
   "cell_type": "code",
   "execution_count": 18,
   "metadata": {
    "colab": {
     "base_uri": "https://localhost:8080/"
    },
    "id": "nBAtGg-oww4h",
    "outputId": "60065d66-1d0c-46b3-d969-1a5b2ca5caa4"
   },
   "outputs": [
    {
     "data": {
      "text/plain": [
       "0.4328755262191857"
      ]
     },
     "execution_count": 18,
     "metadata": {},
     "output_type": "execute_result"
    }
   ],
   "source": [
    "from sklearn.linear_model import LinearRegression\n",
    "model = LinearRegression()\n",
    "model.fit(features_train, target_train)\n",
    "predictions = model.predict(features_test)\n",
    "r2_score(target_test, predictions)\n"
   ]
  },
  {
   "cell_type": "code",
   "execution_count": 19,
   "metadata": {
    "colab": {
     "base_uri": "https://localhost:8080/"
    },
    "id": "8ZxPDH9izMy3",
    "outputId": "13b5a5c5-30cc-4a6a-fd3b-e9e7339fd258"
   },
   "outputs": [
    {
     "data": {
      "text/plain": [
       "0.43287552621920133"
      ]
     },
     "execution_count": 19,
     "metadata": {},
     "output_type": "execute_result"
    }
   ],
   "source": [
    "model_P = LinearRegression()\n",
    "model_P .fit(features_encoded, target_train)\n",
    "predictions = model_P .predict(features_test @ key)\n",
    "r2_score(target_test, predictions)"
   ]
  },
  {
   "cell_type": "markdown",
   "metadata": {
    "id": "jNfcsFAqzjRy"
   },
   "source": [
    "Такой же результат"
   ]
  },
  {
   "cell_type": "markdown",
   "metadata": {
    "id": "8iqDt10Tz9bW"
   },
   "source": [
    "Вывод.\n",
    "\n",
    "Применив метрику R2, мы проверили, что качество линейной регрессии из sklearn не отличается до и после преобразования исходной матрицы.\n",
    "Так же наша рукотворная модель дает тот же результат,что и sklearn."
   ]
  },
  {
   "cell_type": "markdown",
   "metadata": {
    "id": "yhZFQuVh0bOA"
   },
   "source": [
    "# Общий вывод:\n"
   ]
  },
  {
   "cell_type": "markdown",
   "metadata": {
    "id": "Rz5-X-800kbe"
   },
   "source": [
    "* Нужно защитить данные, чтобы при преобразовании качество моделей машинного обучения не ухудшилось. Подбирать наилучшую модель не требуется.\n",
    "\n",
    "* Идея для шифрования – умножить признаки на матрицу шифрования \n",
    "* Вывели алгебраически, что результат не измениться\n",
    "* Проверили на реальных данных:\n",
    "\n",
    "   а. Для зашифрованных R2 сотавило = 0,43\n",
    "\n",
    "   б. Для нешифрованных R2 сотавило = 0,43\n",
    "* Что говорит о том, что проделанная работа была сделана верно "
   ]
  },
  {
   "cell_type": "code",
   "execution_count": null,
   "metadata": {},
   "outputs": [],
   "source": []
  }
 ],
 "metadata": {
  "ExecuteTimeLog": [
   {
    "duration": 1988,
    "start_time": "2023-04-05T12:13:51.557Z"
   },
   {
    "duration": 3,
    "start_time": "2023-04-05T12:13:53.547Z"
   },
   {
    "duration": 87,
    "start_time": "2023-04-05T12:13:53.551Z"
   },
   {
    "duration": 30,
    "start_time": "2023-04-05T12:13:53.640Z"
   },
   {
    "duration": 6,
    "start_time": "2023-04-05T12:13:53.673Z"
   },
   {
    "duration": 6360,
    "start_time": "2023-04-05T12:13:53.681Z"
   },
   {
    "duration": 526,
    "start_time": "2023-04-05T12:14:00.044Z"
   },
   {
    "duration": 4,
    "start_time": "2023-04-05T12:14:00.571Z"
   },
   {
    "duration": 33,
    "start_time": "2023-04-05T12:14:00.577Z"
   },
   {
    "duration": 31,
    "start_time": "2023-04-05T12:14:00.612Z"
   },
   {
    "duration": 38,
    "start_time": "2023-04-05T12:14:00.645Z"
   },
   {
    "duration": 36,
    "start_time": "2023-04-05T12:14:00.686Z"
   },
   {
    "duration": 147,
    "start_time": "2023-04-05T12:14:00.724Z"
   },
   {
    "duration": 99,
    "start_time": "2023-04-05T12:14:00.875Z"
   },
   {
    "duration": 30,
    "start_time": "2023-04-05T12:14:01.062Z"
   },
   {
    "duration": 469,
    "start_time": "2023-04-05T12:14:01.093Z"
   },
   {
    "duration": 0,
    "start_time": "2023-04-05T12:14:01.564Z"
   },
   {
    "duration": 0,
    "start_time": "2023-04-05T12:14:01.566Z"
   },
   {
    "duration": 0,
    "start_time": "2023-04-05T12:14:01.567Z"
   },
   {
    "duration": 38,
    "start_time": "2023-04-05T12:32:39.827Z"
   },
   {
    "duration": 82,
    "start_time": "2023-04-05T12:32:41.085Z"
   },
   {
    "duration": 14,
    "start_time": "2023-04-05T12:32:41.692Z"
   },
   {
    "duration": 1487,
    "start_time": "2023-04-06T04:12:13.385Z"
   },
   {
    "duration": 3,
    "start_time": "2023-04-06T04:12:14.874Z"
   },
   {
    "duration": 91,
    "start_time": "2023-04-06T04:12:14.879Z"
   },
   {
    "duration": 28,
    "start_time": "2023-04-06T04:12:14.973Z"
   },
   {
    "duration": 5,
    "start_time": "2023-04-06T04:12:15.003Z"
   },
   {
    "duration": 5933,
    "start_time": "2023-04-06T04:12:15.010Z"
   },
   {
    "duration": 479,
    "start_time": "2023-04-06T04:12:20.945Z"
   },
   {
    "duration": 5,
    "start_time": "2023-04-06T04:12:21.425Z"
   },
   {
    "duration": 21,
    "start_time": "2023-04-06T04:12:21.432Z"
   },
   {
    "duration": 24,
    "start_time": "2023-04-06T04:12:21.456Z"
   },
   {
    "duration": 16,
    "start_time": "2023-04-06T04:12:21.482Z"
   },
   {
    "duration": 41,
    "start_time": "2023-04-06T04:12:21.500Z"
   },
   {
    "duration": 198,
    "start_time": "2023-04-06T04:12:21.543Z"
   },
   {
    "duration": 115,
    "start_time": "2023-04-06T04:12:21.743Z"
   },
   {
    "duration": 26,
    "start_time": "2023-04-06T04:12:21.859Z"
   },
   {
    "duration": 325,
    "start_time": "2023-04-06T04:12:21.887Z"
   },
   {
    "duration": 0,
    "start_time": "2023-04-06T04:12:22.214Z"
   },
   {
    "duration": 0,
    "start_time": "2023-04-06T04:12:22.216Z"
   },
   {
    "duration": 0,
    "start_time": "2023-04-06T04:12:22.217Z"
   },
   {
    "duration": 123,
    "start_time": "2023-04-06T04:35:11.102Z"
   },
   {
    "duration": 503,
    "start_time": "2023-04-06T04:35:38.031Z"
   },
   {
    "duration": 4,
    "start_time": "2023-04-06T05:28:17.502Z"
   },
   {
    "duration": 2992,
    "start_time": "2023-04-07T03:16:13.418Z"
   },
   {
    "duration": 3,
    "start_time": "2023-04-07T03:16:16.412Z"
   },
   {
    "duration": 78,
    "start_time": "2023-04-07T03:16:16.416Z"
   },
   {
    "duration": 36,
    "start_time": "2023-04-07T03:16:16.497Z"
   },
   {
    "duration": 9,
    "start_time": "2023-04-07T03:16:16.588Z"
   },
   {
    "duration": 15264,
    "start_time": "2023-04-07T03:16:16.599Z"
   },
   {
    "duration": 576,
    "start_time": "2023-04-07T03:16:31.864Z"
   },
   {
    "duration": 4,
    "start_time": "2023-04-07T03:16:32.441Z"
   },
   {
    "duration": 16,
    "start_time": "2023-04-07T03:16:32.446Z"
   },
   {
    "duration": 7,
    "start_time": "2023-04-07T03:16:32.464Z"
   },
   {
    "duration": 20,
    "start_time": "2023-04-07T03:16:32.473Z"
   },
   {
    "duration": 19,
    "start_time": "2023-04-07T03:16:32.498Z"
   },
   {
    "duration": 183,
    "start_time": "2023-04-07T03:16:32.519Z"
   },
   {
    "duration": 199,
    "start_time": "2023-04-07T03:16:32.704Z"
   },
   {
    "duration": 6,
    "start_time": "2023-04-07T03:16:32.905Z"
   },
   {
    "duration": 12,
    "start_time": "2023-04-07T03:16:32.913Z"
   },
   {
    "duration": 66,
    "start_time": "2023-04-07T03:16:32.927Z"
   },
   {
    "duration": 103,
    "start_time": "2023-04-07T03:16:32.998Z"
   },
   {
    "duration": 18,
    "start_time": "2023-04-07T03:16:33.103Z"
   },
   {
    "duration": 1883,
    "start_time": "2023-04-07T03:20:48.967Z"
   },
   {
    "duration": 3,
    "start_time": "2023-04-07T03:20:50.853Z"
   },
   {
    "duration": 40,
    "start_time": "2023-04-07T03:20:50.858Z"
   },
   {
    "duration": 28,
    "start_time": "2023-04-07T03:20:50.900Z"
   },
   {
    "duration": 5,
    "start_time": "2023-04-07T03:20:50.931Z"
   },
   {
    "duration": 6822,
    "start_time": "2023-04-07T03:20:50.937Z"
   },
   {
    "duration": 574,
    "start_time": "2023-04-07T03:20:57.761Z"
   },
   {
    "duration": 4,
    "start_time": "2023-04-07T03:20:58.337Z"
   },
   {
    "duration": 9,
    "start_time": "2023-04-07T03:20:58.343Z"
   },
   {
    "duration": 9,
    "start_time": "2023-04-07T03:20:58.354Z"
   },
   {
    "duration": 12,
    "start_time": "2023-04-07T03:20:58.364Z"
   },
   {
    "duration": 39,
    "start_time": "2023-04-07T03:20:58.378Z"
   },
   {
    "duration": 183,
    "start_time": "2023-04-07T03:20:58.419Z"
   },
   {
    "duration": 86,
    "start_time": "2023-04-07T03:20:58.606Z"
   },
   {
    "duration": 119,
    "start_time": "2023-04-07T03:20:58.694Z"
   },
   {
    "duration": 36,
    "start_time": "2023-04-07T03:20:58.815Z"
   },
   {
    "duration": 39,
    "start_time": "2023-04-07T03:20:58.854Z"
   },
   {
    "duration": 110,
    "start_time": "2023-04-07T03:20:58.895Z"
   },
   {
    "duration": 94,
    "start_time": "2023-04-07T03:20:59.009Z"
   }
  ],
  "colab": {
   "provenance": []
  },
  "kernelspec": {
   "display_name": "Python 3 (ipykernel)",
   "language": "python",
   "name": "python3"
  },
  "language_info": {
   "codemirror_mode": {
    "name": "ipython",
    "version": 3
   },
   "file_extension": ".py",
   "mimetype": "text/x-python",
   "name": "python",
   "nbconvert_exporter": "python",
   "pygments_lexer": "ipython3",
   "version": "3.11.4"
  },
  "toc": {
   "base_numbering": 1,
   "nav_menu": {},
   "number_sections": true,
   "sideBar": true,
   "skip_h1_title": true,
   "title_cell": "Содержание",
   "title_sidebar": "Contents",
   "toc_cell": true,
   "toc_position": {},
   "toc_section_display": true,
   "toc_window_display": true
  }
 },
 "nbformat": 4,
 "nbformat_minor": 1
}
